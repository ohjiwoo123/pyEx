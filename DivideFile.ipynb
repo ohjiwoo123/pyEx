{
 "cells": [
  {
   "cell_type": "code",
   "execution_count": 29,
   "id": "e3df3475",
   "metadata": {},
   "outputs": [
    {
     "name": "stdout",
     "output_type": "stream",
     "text": [
      "/home/jwoh/myData\n",
      "['7b7ce0ce9c1ba03de93778275854cef548b643ed.jpg', 'dogs_1280p_0.jpg', 'large-dog-on-walk-looking-over-hills.jpg', '164742v800_puppy-1.jpg', 'FCI-VIS-21102020.png', 'GettyImages-559514141.jpg', 'DogsinthePark Header image.jpg', 'blog_make-dogs-day_101619_main.jpg', '3408.jpg', 'Yellow-Labrador-Retriever-500x486.jpg', 'dog-518805.jpg', '20200709-dog.jpg', 'king-charles-spaniel-resting-head-768.jpg', 'cute-dog-headshot.jpg', '190531-think-stock-dog-ew-307p-2879226.jpg', '43055387_303.jpg', 'WdhrVa7WpPrD8BRh7oAwCD-320-80.jpg', 'dog-care_dog-bite-prevention_main-image.jpg', 'file-20200310-61148-vllmgm.jpg', '_115133202_002716794.jpg', '49202627_303.jpg', 'pet-tip_4.jpg', 'lpr-dogs3.jpg', 'm0bt9lr_cover.png', 'German-shepherd.jpg', '19177976_303.jpg', 'Reviewed.com-RvEW-24856-lead.jpg', '50_a-feature_dogs-and-puppies_mobile.jpg', 'korean-jindo-dog-breed-pictures-7.jpg', 'https___cdn.cnn.com_cnnnext_dam_assets_201030094143-stock-rhodesian-ridgeback.jpg', '15-Amazing-Dog-FactsTEASER.jpg', 'd41586-020-01430-5_17977552.jpg', 'tractive-dog-lte-dog-with-lte-tracker.jpg', '210430-frankie-al-1227_0.jpg', 'website-donate-mobile.jpg', 'MBS_DogEvolution_blg_031820.jpg', 'file-20200309-118956-1cqvm6j.jpg', 'file-20201021-23-zeezzs.jpg', 'd41586-020-03053-2_18533900.jpg', 'maxresdefault.jpg', '04TB-DOGS-mobileMasterAt3x.jpg', 'dog-451643.jpg', '20VIRUS-DOGS-SPILLOVER1-mobileMasterAt3x.jpg', '1915.jpg', 'ZvueiLL2vdwoHWHjCRuQCW-1200-80.jpg', 'p037rw6n.jpg', 'Generic_01.jpg', 'labrador-dog-image-from-pixabay.jpg', 'dog-treats-kr-2x1-tease-200721-3398773.jpg', '5850.jpg', 'dog_noun_001_04904.jpg', 'dog_wide-844d8b04870fb687019a2fecd6eea67090a307d0.jpg', 'istockphoto-635806172-1024x1024.jpg', 'Untitled.ipynb', 'dog-grass-441879.jpg', '14xp-dogs--mediumSquareAt3X.jpg', 'main_puppies_1280p.jpg', '.ipynb_checkpoints', 'pit-bull-featured.jpg', 'Mobile_Slider_Temtim.jpg', '322868_1100-800x825.jpg', '_118929497_gettyimages-817054562.jpg', 'angry-dog.jpg', '_117600664_a6ce25cd-62c1-43ec-b1df-42b3f17e01a8.jpg', 'dog-care_general-dog-care_main-image.jpg', 'The_Science-Backed_Benefits_of_Being_a_Dog_Owner.jpg', 'Dog.jpg', 'dog-tales-img.width-2000.jpg', '61e5ddce35cd9381e11de8f0257a88a302777bcc.jpg', 'the-cost-of-dog-ownership-1117321-hero-01-b30892aa41234b2e9ca0e4d7131894ac.jpg', 'dog_image.zip', 'dog_diy_enrichment_ideas_main.jpg', '969.jpg', '#4pedigreedogsworldwide-WP-5.png', 'world-of-dogs-05.jpg', 'pop_culter_dog_rank_alyceatinoyan_feature.jpg', 'https___d1e00ek4ebabms.cloudfront.net_production_2d671463-e45d-4c45-a5a5-e3fd3488333f.jpg', 'getty_682329206_200013341653767264242_384393.jpg', 'Dog-behavior-Kasper-Luijsterburg.jpg', 'prancer_custom-759bb62cb7b875f2cfaa6429170483b9552e7cbd.jpg', 'puppy-410265.jpg', '5DFE9556-8F8E-4EFD-80AAC879686D144B_source.jpg', 'HB4AT3D3IMI6TMPTWIZ74WAR54.jpg', 'India-and-Nico-Play-RGB_promo2-scaled.jpg', '1._dingo_on_sand_credit_chontelle_burns_nouveau_rise_photography_3.jpeg', '600px-Dog.svg.png', 'dog_16x9_3.jpg', '_115134376_c0037587-new_guinea_singing_dog_canis_hallstromi_.jpg']\n",
      "88\n"
     ]
    }
   ],
   "source": [
    "import os\n",
    "import math\n",
    "import shutil\n",
    "\n",
    "basePath = \"/home/jwoh/myData\"\n",
    "\n",
    "filename = os.path.join(basePath)\n",
    "print(filename)\n",
    "\n",
    "filenames = os.listdir(basePath)\n",
    "\n",
    "print(filenames)\n",
    "\n",
    "print(len(filenames))"
   ]
  },
  {
   "cell_type": "code",
   "execution_count": 35,
   "id": "5a1d86b9",
   "metadata": {},
   "outputs": [],
   "source": [
    "# 파일의 확장자 정리 \n",
    "# jpeg jpg png (jpeg -> jpg )\n",
    "filenames = os.listdir(basePath)\n",
    "\n",
    "for filename in filenames:\n",
    "    name, ext = os.path.splitext(filename)\n",
    "    if ext == '.jpeg':\n",
    "        srcName = os.path.join(basePath, filename)\n",
    "        dstName = os.path.join(basePath,name+\".jpg\")\n",
    "        shutil.move(srcName, dstName)"
   ]
  },
  {
   "cell_type": "code",
   "execution_count": 36,
   "id": "4849adae",
   "metadata": {},
   "outputs": [],
   "source": [
    "jpgCount = 0\n",
    "pngCount = 0\n",
    "\n",
    "basePath = \"/home/jwoh/myData\"\n",
    "\n",
    "filenames = os.listdir(basePath)\n",
    "\n",
    "for i in filenames:\n",
    "    if i.count(\"jpg\"):\n",
    "        os.rename(basePath+\"/\"+i,basePath +\"/\"+str(jpgCount)+\".jpg\")\n",
    "        jpgCount += 1\n",
    "    elif i.count(\"png\"):\n",
    "        os.rename(basePath+\"/\"+i,basePath + \"/\"+str(pngCount) +\".png\")\n",
    "        pngCount += 1\n",
    "    else:\n",
    "        continue"
   ]
  },
  {
   "cell_type": "code",
   "execution_count": 37,
   "id": "26dce66b",
   "metadata": {},
   "outputs": [
    {
     "data": {
      "text/plain": [
       "['34.jpg',\n",
       " '9.jpg',\n",
       " '76.jpg',\n",
       " '16.jpg',\n",
       " '45.jpg',\n",
       " '55.jpg',\n",
       " '25.jpg',\n",
       " '44.jpg',\n",
       " '49.jpg',\n",
       " '65.jpg',\n",
       " '80.jpg',\n",
       " '40.jpg',\n",
       " '30.jpg',\n",
       " '50.jpg',\n",
       " '31.jpg',\n",
       " '2.png',\n",
       " '48.jpg',\n",
       " '61.jpg',\n",
       " '28.jpg',\n",
       " '64.jpg',\n",
       " '26.jpg',\n",
       " '43.jpg',\n",
       " '71.jpg',\n",
       " '1.png',\n",
       " '32.jpg',\n",
       " '58.jpg',\n",
       " '60.jpg',\n",
       " '52.jpg',\n",
       " '54.jpg',\n",
       " '47.jpg',\n",
       " '57.jpg',\n",
       " '37.jpg',\n",
       " '67.jpg',\n",
       " 'Untitled.ipynb',\n",
       " '70.jpg',\n",
       " '68.jpg',\n",
       " '.ipynb_checkpoints',\n",
       " '56.jpg',\n",
       " '59.jpg',\n",
       " '78.jpg',\n",
       " '77.jpg',\n",
       " '79.jpg',\n",
       " '74.jpg',\n",
       " '73.jpg',\n",
       " 'dog_image.zip',\n",
       " '3.png',\n",
       " '75.jpg',\n",
       " '69.jpg']"
      ]
     },
     "execution_count": 37,
     "metadata": {},
     "output_type": "execute_result"
    }
   ],
   "source": [
    "filenames = os.listdir(basePath)\n",
    "filenames"
   ]
  },
  {
   "cell_type": "code",
   "execution_count": null,
   "id": "2ef3bb61",
   "metadata": {},
   "outputs": [],
   "source": []
  }
 ],
 "metadata": {
  "kernelspec": {
   "display_name": "Python 3",
   "language": "python",
   "name": "python3"
  },
  "language_info": {
   "codemirror_mode": {
    "name": "ipython",
    "version": 3
   },
   "file_extension": ".py",
   "mimetype": "text/x-python",
   "name": "python",
   "nbconvert_exporter": "python",
   "pygments_lexer": "ipython3",
   "version": "3.7.10"
  }
 },
 "nbformat": 4,
 "nbformat_minor": 5
}
